{
 "metadata": {
  "language_info": {
   "codemirror_mode": {
    "name": "ipython",
    "version": 3
   },
   "file_extension": ".py",
   "mimetype": "text/x-python",
   "name": "python",
   "nbconvert_exporter": "python",
   "pygments_lexer": "ipython3",
   "version": "3.8.3-final"
  },
  "orig_nbformat": 2,
  "kernelspec": {
   "name": "python3",
   "display_name": "Python 3",
   "language": "python"
  }
 },
 "nbformat": 4,
 "nbformat_minor": 2,
 "cells": [
  {
   "cell_type": "code",
   "execution_count": 11,
   "metadata": {},
   "outputs": [
    {
     "output_type": "stream",
     "name": "stdout",
     "text": [
      "[[11 39962336]\n [12 22209376]\n [13 13310908]\n [14 27376940]\n [15 20862148]\n [21 5000000]]\n"
     ]
    }
   ],
   "source": [
    "import mysql.connector\n",
    "import numpy as np\n",
    "import matplotlib.pyplot as plt\n",
    "import pandas as pd\n",
    "import skfuzzy as fuzz\n",
    "\n",
    "mydb = mysql.connector.connect(\n",
    "  host=\"localhost\",\n",
    "  user=\"root\",\n",
    "  passwd=\"\",\n",
    "  database=\"laptop\"\n",
    ")\n",
    "\n",
    "sql_query = pd.read_sql_query('''select * from laptop''', mydb)\n",
    "sql_query_bobot = pd.read_sql_query('''select * from bobots''', mydb)\n",
    "data_laptop = pd.DataFrame(sql_query)\n",
    "nilai_bobot = pd.DataFrame(sql_query_bobot)\n",
    "\n",
    "data_bobot = np.array(nilai_bobot)\n",
    "data_bobot = data_bobot[:,[1,2,3,4,5,6]]\n",
    "\n",
    "data_ram = np.array(data_laptop)\n",
    "data_ram = data_ram[:,[0,2]]\n",
    "\n",
    "data_memori = np.array(data_laptop)\n",
    "data_memori = data_memori[:,[0,3]]\n",
    "\n",
    "data_resolusi = np.array(data_laptop) \n",
    "data_resolusi = data_resolusi[:,[0,4]]\n",
    "\n",
    "data_berat = np.array(data_laptop)\n",
    "data_berat = data_berat[:,[0,5]]\n",
    "\n",
    "data_baterai = np.array(data_laptop) \n",
    "data_baterai = data_baterai[:,[0,6]]\n",
    "\n",
    "data_harga = np.array(data_laptop)\n",
    "data_harga = data_harga[:,[0,7]]\n",
    "print(data_harga)"
   ]
  },
  {
   "cell_type": "code",
   "execution_count": null,
   "metadata": {},
   "outputs": [],
   "source": []
  }
 ]
}